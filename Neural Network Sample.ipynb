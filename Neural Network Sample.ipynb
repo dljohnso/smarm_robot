{
 "cells": [
  {
   "cell_type": "code",
   "execution_count": 11,
   "metadata": {
    "collapsed": true
   },
   "outputs": [],
   "source": [
    "from pybrain.structure import FeedForwardNetwork, LinearLayer, SigmoidLayer, FullConnection\n",
    "import random\n",
    "import numpy as np\n",
    "from scipy.stats import gaussian_kde\n",
    "import math"
   ]
  },
  {
   "cell_type": "code",
   "execution_count": 12,
   "metadata": {
    "collapsed": false
   },
   "outputs": [],
   "source": [
    "class ant():\n",
    "    def __init__(self, in_size, out_size, hidden_size, archive_size):\n",
    "        net = FeedForwardNetwork()\n",
    "        net.addInputModule(LinearLayer(in_size, name='in'))\n",
    "        net.addModule(SigmoidLayer(hidden_size, name='hidden'))\n",
    "        net.addOutputModule(LinearLayer(out_size, name='out'))\n",
    "        net.addConnection(FullConnection(net['in'], net['hidden'], name='c1'))\n",
    "        net.addConnection(FullConnection(net['hidden'], net['out'], name='c2'))\n",
    "        #net.addRecurrentConnection(FullConnection(n['hidden'], n['hidden'], name='c3'))\n",
    "        self.archive_size = archive_size\n",
    "        self.archive = np.zeros((archive_size, hidden_size))\n",
    "        self.sol_weights = np.zeros(archive_size)\n",
    "        for mod in net.modules:\n",
    "            for conn in net.connections[mod]:\n",
    "                if conn.inmod.name == 'in':\n",
    "                    self.weights = conn.params\n",
    "        def generateBiasedWeights(self):\n",
    "            pdf = 0\n",
    "            for i in range(self.archive_size, self.archive_size * 2):\n",
    "                pdf = selectPDF()\n",
    "                for j in range(numWeights):\n",
    "                    sigma = computeSD(j, pdf)\n",
    "                    mu= archive[pdf][j]\n",
    "                    archive[i][j] = random.gauss(mu,sigma)\n",
    "        def selectPDF(self):\n",
    "            l=0\n",
    "            temp = 0;\n",
    "            r= random.random()\n",
    "            for i in range(self.archive_size):\n",
    "                temp = temp + self.sol_weights[i]/self.sum_sol_weights\n",
    "                if r<temp:\n",
    "                    l=i\n",
    "                    return l\n",
    "        def computeSolutionWeights(self):\n",
    "            q = .08\n",
    "            for i in range(self.archive_size):\n",
    "                exponent = (i*i)/(2*q*q*self.archive_size*self.archive_size)\n",
    "                self.sol_weights[i] = (1/(0.1*math.sqrt(2*math.pi)))*(math.e**(-1*exponent))\n",
    "                self.sum_sol_weights = self.sum_sol_weights + self.sol_weights[i]"
   ]
  },
  {
   "cell_type": "code",
   "execution_count": 13,
   "metadata": {
    "collapsed": false
   },
   "outputs": [
    {
     "data": {
      "text/plain": [
       "<__main__.ant instance at 0x0000000006FDE708>"
      ]
     },
     "execution_count": 13,
     "metadata": {},
     "output_type": "execute_result"
    }
   ],
   "source": [
    "weight_size = 7 * 11\n",
    "archive_size = 15\n",
    "in_size = 11\n",
    "hidden_size = 7\n",
    "out_size = 2\n",
    "ant(in_size, out_size, hidden_size, archive_size)"
   ]
  },
  {
   "cell_type": "code",
   "execution_count": null,
   "metadata": {
    "collapsed": false
   },
   "outputs": [],
   "source": []
  },
  {
   "cell_type": "code",
   "execution_count": null,
   "metadata": {
    "collapsed": true
   },
   "outputs": [],
   "source": [
    "\n"
   ]
  }
 ],
 "metadata": {
  "kernelspec": {
   "display_name": "Python 2",
   "language": "python",
   "name": "python2"
  },
  "language_info": {
   "codemirror_mode": {
    "name": "ipython",
    "version": 2
   },
   "file_extension": ".py",
   "mimetype": "text/x-python",
   "name": "python",
   "nbconvert_exporter": "python",
   "pygments_lexer": "ipython2",
   "version": "2.7.11"
  }
 },
 "nbformat": 4,
 "nbformat_minor": 0
}
