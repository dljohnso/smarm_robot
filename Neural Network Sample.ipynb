{
 "cells": [
  {
   "cell_type": "code",
   "execution_count": 2,
   "metadata": {
    "collapsed": true
   },
   "outputs": [],
   "source": [
    "from pybrain.structure import FeedForwardNetwork, LinearLayer, SigmoidLayer, FullConnection\n",
    "import random\n",
    "from scipy.stats import gaussian_kde\n",
    "import math"
   ]
  },
  {
   "cell_type": "code",
   "execution_count": null,
   "metadata": {
    "collapsed": false
   },
   "outputs": [],
   "source": []
  },
  {
   "cell_type": "code",
   "execution_count": 3,
   "metadata": {
    "collapsed": false
   },
   "outputs": [
    {
     "ename": "NameError",
     "evalue": "name 'ant' is not defined",
     "output_type": "error",
     "traceback": [
      "\u001b[1;31m---------------------------------------------------------------------------\u001b[0m",
      "\u001b[1;31mNameError\u001b[0m                                 Traceback (most recent call last)",
      "\u001b[1;32m<ipython-input-3-150d15aa4fa8>\u001b[0m in \u001b[0;36m<module>\u001b[1;34m()\u001b[0m\n\u001b[0;32m      4\u001b[0m \u001b[0mhidden_size\u001b[0m \u001b[1;33m=\u001b[0m \u001b[1;36m7\u001b[0m\u001b[1;33m\u001b[0m\u001b[0m\n\u001b[0;32m      5\u001b[0m \u001b[0mout_size\u001b[0m \u001b[1;33m=\u001b[0m \u001b[1;36m2\u001b[0m\u001b[1;33m\u001b[0m\u001b[0m\n\u001b[1;32m----> 6\u001b[1;33m \u001b[0mant\u001b[0m\u001b[1;33m(\u001b[0m\u001b[0min_size\u001b[0m\u001b[1;33m,\u001b[0m \u001b[0mout_size\u001b[0m\u001b[1;33m,\u001b[0m \u001b[0mhidden_Size\u001b[0m\u001b[1;33m,\u001b[0m \u001b[0marchive_size\u001b[0m\u001b[1;33m)\u001b[0m\u001b[1;33m\u001b[0m\u001b[0m\n\u001b[0m",
      "\u001b[1;31mNameError\u001b[0m: name 'ant' is not defined"
     ]
    }
   ],
   "source": [
    "weight_size = 7 * 11\n",
    "archive_size = 15\n",
    "in_size = 11\n",
    "hidden_size = 7\n",
    "out_size = 2\n",
    "ant(in_size, out_size, hidden_Size, archive_size)"
   ]
  },
  {
   "cell_type": "code",
   "execution_count": null,
   "metadata": {
    "collapsed": false
   },
   "outputs": [],
   "source": [
    "class ant():\n",
    "    def __init__(in_size, out_size, hidden_size, archive_size):\n",
    "        net = FeedForwardNetwork()\n",
    "        net.addInputModule(LinearLayer(in_size, name='in'))\n",
    "        net.addModule(SigmoidLayer(hidden_size, name='hidden'))\n",
    "        net.addOutputModule(LinearLayer(out_size, name='out'))\n",
    "        net.addConnection(FullConnection(n['in'], n['hidden'], name='c1'))\n",
    "        net.addConnection(FullConnection(n['hidden'], n['out'], name='c2'))\n",
    "        #net.addRecurrentConnection(FullConnection(n['hidden'], n['hidden'], name='c3'))\n",
    "        self.archive_size = archive_size\n",
    "        self.archive = np.zeros((archive_size, hidden_size))\n",
    "        self.sol_weights = np.zeros(archive_size)\n",
    "        for mod in net.modules:\n",
    "            for conn in net.connections[mod]:\n",
    "                if conn.inmod.name == 'in':\n",
    "                    self.weights = conn.params\n",
    "        def generateBiasedWeights():\n",
    "            pdf = 0\n",
    "            for i in range(self.archive_size, self.archive_size * 2):\n",
    "                pdf = selectPDF()\n",
    "                for j in range(numWeights):\n",
    "                    sigma = computeSD(j, pdf)\n",
    "                    mu= archive[pdf][j]\n",
    "                    archive[i][j] = random.gauss(mu,sigma)\n",
    "        def selectPDF():\n",
    "            l=0\n",
    "            temp = 0;\n",
    "            r= random.random()\n",
    "            for i in range(self.archive_size):\n",
    "                temp = temp + self.sol_weights[i]/self.sum_sol_weights\n",
    "                if r<temp:\n",
    "                    l=i\n",
    "                    return l\n",
    "        def computeSolutionWeights():\n",
    "            q = .08\n",
    "            for i in range(self.archive_size):\n",
    "                exponent = (i*i)/(2*q*q*self.archive_size*self.archive_size)\n",
    "                self.sol_weights[i] = (1/(0.1*math.sqrt(2*math.pi)))*(math.e**(-1*exponent))\n",
    "                self.sum_sol_weights = self.sum_sol_weights + self.sol_weights[i]"
   ]
  },
  {
   "cell_type": "code",
   "execution_count": null,
   "metadata": {
    "collapsed": true
   },
   "outputs": [],
   "source": [
    "\n"
   ]
  }
 ],
 "metadata": {
  "kernelspec": {
   "display_name": "Python 2",
   "language": "python",
   "name": "python2"
  },
  "language_info": {
   "codemirror_mode": {
    "name": "ipython",
    "version": 2
   },
   "file_extension": ".py",
   "mimetype": "text/x-python",
   "name": "python",
   "nbconvert_exporter": "python",
   "pygments_lexer": "ipython2",
   "version": "2.7.11"
  }
 },
 "nbformat": 4,
 "nbformat_minor": 0
}
